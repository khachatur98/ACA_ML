{
 "cells": [
  {
   "cell_type": "code",
   "execution_count": 2,
   "metadata": {},
   "outputs": [],
   "source": [
    "import numpy as np\n",
    "import xgboost as xgb\n",
    "import pandas as pd\n",
    "from xgboost.sklearn import XGBRegressor\n",
    "import sklearn\n",
    "from sklearn.preprocessing import LabelEncoder\n",
    "import matplotlib.pyplot as plt\n",
    "from sklearn.preprocessing import StandardScaler"
   ]
  },
  {
   "cell_type": "code",
   "execution_count": 3,
   "metadata": {},
   "outputs": [],
   "source": [
    "def day_to_float(dates:'numpy array of strings with format YYYY-MM-DD'):\n",
    "    new_d = []\n",
    "    for i in dates:\n",
    "        date_arr = list(map(float,i.split('-')))\n",
    "        new_d.append(date_arr[0]+date_arr[1]/12+date_arr[2]/(12*31))\n",
    "    return np.array(new_d)"
   ]
  },
  {
   "cell_type": "code",
   "execution_count": 4,
   "metadata": {},
   "outputs": [],
   "source": [
    "def clean_data(X):\n",
    "    for i in range(2,len(X[0,:])):\n",
    "        if isinstance(X[0,i],str):\n",
    "            ind.append(i)\n",
    "    fu = np.array([None]*len(ind))\n",
    "    for j in range(len(ind)):\n",
    "        l = []\n",
    "        for i in range(len(X[:,ind[j]])):\n",
    "            if not isinstance(X[i,ind[j]],float):\n",
    "                l.append(i)\n",
    "        fu[j] = np.array(l)\n",
    "    print(X[:,1])\n",
    "\n",
    "    for i in range(len(ind)):\n",
    "        mod1 = LabelEncoder()\n",
    "        A = X[:,ind[i]][fu[i]]\n",
    "        mod1.fit(A)\n",
    "        X[:,ind[i]][fu[i]] = mod1.transform(X[:,ind[i]][fu[i]])\n",
    "\n",
    "    X[:,1] = day_to_float(X[:,1])\n",
    "    I = sklearn.preprocessing.Imputer(missing_values=float('nan'),strategy='most_frequent',axis=0)\n",
    "    X = I.fit_transform(X)\n",
    "    return X"
   ]
  },
  {
   "cell_type": "code",
   "execution_count": 6,
   "metadata": {},
   "outputs": [
    {
     "name": "stdout",
     "output_type": "stream",
     "text": [
      "(30471, 292)\n",
      "30471\n",
      "['2011-08-20' '2011-08-23' '2011-08-27' ... '2015-06-30' '2015-06-30'\n",
      " '2015-06-30']\n"
     ]
    }
   ],
   "source": [
    "train = pd.read_csv('/home/xcho/Desktop/AnacondaProjects/Houses/train.csv')\n",
    "print(np.array(train).shape)\n",
    "ind = []\n",
    "X = np.array(train)\n",
    "print(X.shape[0])\n",
    "X = clean_data(X)"
   ]
  },
  {
   "cell_type": "code",
   "execution_count": 7,
   "metadata": {},
   "outputs": [
    {
     "name": "stdout",
     "output_type": "stream",
     "text": [
      "[29442  8116  1759 ... 19750 29014  1586]\n"
     ]
    }
   ],
   "source": [
    "n_data = X.shape[0]\n",
    "\n",
    "indices = np.arange(n_data)\n",
    "np.random.shuffle(indices)\n",
    "print(indices)"
   ]
  },
  {
   "cell_type": "code",
   "execution_count": 8,
   "metadata": {},
   "outputs": [
    {
     "name": "stdout",
     "output_type": "stream",
     "text": [
      "30471 9141 21330\n"
     ]
    }
   ],
   "source": [
    "X_s = X[indices,:]\n",
    "test_count = n_data*30//100\n",
    "train_count = n_data-test_count\n",
    "print(n_data, test_count,train_count)\n",
    "X_train = X_s[:,1:-1]\n",
    "y_train = X_s[:,-1]\n",
    "\n",
    "X_test = X_s[:test_count:,1:-1]\n",
    "y_test = X_s[:test_count,-1]"
   ]
  },
  {
   "cell_type": "code",
   "execution_count": null,
   "metadata": {},
   "outputs": [],
   "source": []
  },
  {
   "cell_type": "code",
   "execution_count": 9,
   "metadata": {},
   "outputs": [
    {
     "name": "stdout",
     "output_type": "stream",
     "text": [
      "(30471, 290) (30471,)\n"
     ]
    }
   ],
   "source": [
    "print(X_train.shape,y_train.shape)"
   ]
  },
  {
   "cell_type": "code",
   "execution_count": 10,
   "metadata": {},
   "outputs": [],
   "source": [
    "x = XGBRegressor()"
   ]
  },
  {
   "cell_type": "code",
   "execution_count": 11,
   "metadata": {},
   "outputs": [],
   "source": [
    "model = x.fit(X_train,y_train)"
   ]
  },
  {
   "cell_type": "code",
   "execution_count": 12,
   "metadata": {},
   "outputs": [
    {
     "data": {
      "text/plain": [
       "0.733340568134585"
      ]
     },
     "execution_count": 12,
     "metadata": {},
     "output_type": "execute_result"
    }
   ],
   "source": [
    "model.score(X_train,y_train)"
   ]
  },
  {
   "cell_type": "code",
   "execution_count": 13,
   "metadata": {},
   "outputs": [
    {
     "data": {
      "text/plain": [
       "[]"
      ]
     },
     "execution_count": 13,
     "metadata": {},
     "output_type": "execute_result"
    },
    {
     "data": {
      "image/png": "[encoded data removed]",
      "text/plain": [
       "<Figure size 432x288 with 1 Axes>"
      ]
     },
     "metadata": {},
     "output_type": "display_data"
    }
   ],
   "source": [
    "feat_imp = pd.Series(model.get_booster().get_fscore()).sort_values(ascending=False)[0:20]\n",
    "feat_imp.plot(kind='bar', title='Feature Importances')\n",
    "plt.ylabel('Feature Importance Score')\n",
    "plt.plot()"
   ]
  },
  {
   "cell_type": "code",
   "execution_count": 14,
   "metadata": {},
   "outputs": [
    {
     "name": "stdout",
     "output_type": "stream",
     "text": [
      "[53. 84. 37. ... 38. 51. 45.]\n"
     ]
    },
    {
     "data": {
      "image/png": "[encoded data removed]",
      "text/plain": [
       "<Figure size 432x288 with 1 Axes>"
      ]
     },
     "metadata": {},
     "output_type": "display_data"
    }
   ],
   "source": [
    "\n",
    "plt.scatter(X_train[:400,1], y_train[:400])\n",
    "plt.xlim(20,150)\n",
    "plt.plot()\n",
    "\n",
    "\n",
    "print(X_train[:,1])"
   ]
  },
  {
   "cell_type": "code",
   "execution_count": 15,
   "metadata": {},
   "outputs": [],
   "source": [
    "from sklearn import linear_model"
   ]
  },
  {
   "cell_type": "code",
   "execution_count": 16,
   "metadata": {},
   "outputs": [
    {
     "data": {
      "text/plain": [
       "Lasso(alpha=0.1, copy_X=True, fit_intercept=True, max_iter=1000,\n",
       "   normalize=False, positive=False, precompute=False, random_state=None,\n",
       "   selection='cyclic', tol=0.0001, warm_start=False)"
      ]
     },
     "execution_count": 16,
     "metadata": {},
     "output_type": "execute_result"
    }
   ],
   "source": [
    "#X_train = scale(X_train)\n",
    "regression = linear_model.Lasso(alpha=0.1)\n",
    "regression.fit(X_train[:,1].reshape(-1,1),y_train)"
   ]
  },
  {
   "cell_type": "code",
   "execution_count": 17,
   "metadata": {},
   "outputs": [
    {
     "name": "stdout",
     "output_type": "stream",
     "text": [
      "20178730207710.832\n"
     ]
    }
   ],
   "source": [
    "print(np.mean((regression.predict(X_train[:,1].reshape(-1,1))-y_train)**2))\n",
    "y_train2 =y_train- regression.predict(X_train[:,1].reshape(-1,1))"
   ]
  },
  {
   "cell_type": "code",
   "execution_count": 18,
   "metadata": {},
   "outputs": [
    {
     "name": "stdout",
     "output_type": "stream",
     "text": [
      "(30471, 289)\n"
     ]
    }
   ],
   "source": [
    "x = XGBRegressor(learning_rate=0.1,n_estimators=100,max_depth=7)\n",
    "X_train2 = np.hstack([X_train[:,0].reshape(-1,1),X_train[:,2:]])\n",
    "print(X_train2.shape)\n",
    "model = x.fit(X_train2,y_train2)"
   ]
  },
  {
   "cell_type": "code",
   "execution_count": 19,
   "metadata": {},
   "outputs": [
    {
     "name": "stdout",
     "output_type": "stream",
     "text": [
      "0.8362034204047546\n"
     ]
    }
   ],
   "source": [
    "print(model.score(X_train2,y_train2))\n",
    "#print(model.score(X_test2,y_test))"
   ]
  },
  {
   "cell_type": "code",
   "execution_count": 20,
   "metadata": {},
   "outputs": [],
   "source": [
    "#model.get_booster().get_fscore()"
   ]
  },
  {
   "cell_type": "code",
   "execution_count": 21,
   "metadata": {},
   "outputs": [
    {
     "name": "stdout",
     "output_type": "stream",
     "text": [
      "[0, 1, 2, 5, 7, 6, 3, 87, 88, 83, 10, 101, 8, 90, 129, 91, 141, 93, 4, 123, 103, 9, 138, 126, 149, 145, 115, 89, 134, 146, 128, 244, 139, 110, 151, 95, 144, 106, 136, 147, 84, 11, 127, 85, 14, 119, 133, 132, 82, 142, 143, 174, 124, 204, 158, 271, 125, 248, 200, 197, 130, 140, 137, 94, 221, 117, 267, 122, 131, 227, 97, 113, 98, 175, 243, 22, 225, 13, 135, 148, 92, 12, 202, 99, 266, 280, 246, 198, 16, 220, 181, 105, 114, 39, 264, 180, 179, 257, 273, 121, 71, 100, 108, 250, 269, 281, 223, 187, 256, 231, 226, 159, 107, 164, 177, 272, 186, 233, 201, 79, 111, 224, 176, 251, 157, 162, 188, 20, 247, 67, 66, 234, 254, 276, 25, 72, 203, 152, 163, 208, 232, 288, 172, 210, 29, 178, 274, 154, 211, 48, 190, 74, 245, 195, 19, 261, 80, 209, 228, 215, 287, 184, 70, 192, 182, 156, 270, 258, 242, 205, 81, 26, 237, 196, 284, 78, 279, 27, 241, 23, 17, 249, 68, 219, 252, 255, 49, 282, 253, 235, 15, 259, 218, 199, 118, 150, 185, 45, 278, 283, 229, 275, 222, 212, 206, 263, 240, 171, 120, 30, 260, 47, 40, 161, 265, 109, 169, 230, 277, 217, 238, 77, 213, 166, 173, 50, 18, 286, 153, 189, 165, 183, 268, 191, 34, 44, 62, 55, 285, 168, 194, 24, 73, 46, 214, 160, 36, 42, 69, 76, 65, 207, 58, 38, 61]\n"
     ]
    },
    {
     "data": {
      "image/png": "[encoded data removed]",
      "text/plain": [
       "<Figure size 432x288 with 1 Axes>"
      ]
     },
     "metadata": {},
     "output_type": "display_data"
    }
   ],
   "source": [
    "feat_imp = pd.Series(model.get_booster().get_fscore()).sort_values(ascending=False)[0:20]\n",
    "feat_imp.plot(kind='bar', title='Feature Importances')\n",
    "plt.ylabel('Feature Importance Score')\n",
    "plt.plot()\n",
    "data = model.get_booster().get_fscore()\n",
    "str_ind = sorted(data.items(), key=lambda x:x[1],reverse=True) \n",
    "int_ind = []\n",
    "for i,j in str_ind:\n",
    "    int_ind.append(int(i[1:]))\n",
    "print(int_ind)"
   ]
  },
  {
   "cell_type": "code",
   "execution_count": 22,
   "metadata": {},
   "outputs": [
    {
     "name": "stderr",
     "output_type": "stream",
     "text": [
      "/home/xcho/anaconda3/lib/python3.6/site-packages/h5py/__init__.py:36: FutureWarning: Conversion of the second argument of issubdtype from `float` to `np.floating` is deprecated. In future, it will be treated as `np.float64 == np.dtype(float).type`.\n",
      "  from ._conv import register_converters as _register_converters\n"
     ]
    }
   ],
   "source": [
    "import tensorflow as tf"
   ]
  },
  {
   "cell_type": "code",
   "execution_count": 23,
   "metadata": {},
   "outputs": [],
   "source": [
    "dropout=0.25\n",
    "tf.reset_default_graph()\n",
    "X_t = tf.placeholder(shape=[None,22],dtype='float32')\n",
    "y_t = tf.placeholder(shape=[None,1],dtype='float32')\n",
    "alpha = tf.placeholder(shape=(),dtype='float32')\n",
    "flat = tf.layers.flatten(inputs=X_t)\n",
    "layer1 = tf.layers.dense(inputs = flat,units=128,activation=tf.nn.relu)\n",
    "d1 = tf.layers.dropout(layer1, rate=dropout)\n",
    "\n",
    "layer2 = tf.layers.dense(inputs = d1,units=128,activation=tf.nn.relu)\n",
    "d2 = tf.layers.dropout(layer2, rate=dropout)\n",
    "\n",
    "layer3 = tf.layers.dense(inputs = d2,units=64,activation=tf.nn.relu)\n",
    "d3 = tf.layers.dropout(layer3, rate=dropout)\n",
    "\n",
    "layer4 = tf.layers.dense(inputs = d3,units=32,activation=tf.nn.relu)\n",
    "pred = tf.layers.dense(inputs = layer4,units=1,activation=tf.nn.relu)\n",
    "\n",
    "loss = tf.nn.l2_loss(tf.log(pred+1.0E-8)-tf.log(y_t+1.0E-8))*2\n",
    "\n",
    "\n",
    "step = tf.train.AdamOptimizer(alpha).minimize(loss)"
   ]
  },
  {
   "cell_type": "code",
   "execution_count": 24,
   "metadata": {},
   "outputs": [
    {
     "name": "stdout",
     "output_type": "stream",
     "text": [
      "(30471, 290)\n",
      "(30471, 289)\n",
      "(30471,)\n",
      "(30471,)\n",
      "(30471, 22)\n"
     ]
    }
   ],
   "source": [
    "print(X_train.shape)\n",
    "print(X_train2.shape)\n",
    "print(y_train.shape)\n",
    "print(y_train2.shape)\n",
    "X_nn = np.hstack([X_train[:,int_ind[:20]],model.predict(X_train2).reshape(-1,1),regression.predict(X_train[:,1].reshape(-1,1)).reshape(-1,1)])\n",
    "print(X_nn.shape)\n",
    "\n",
    "\n",
    "X_test2 = np.hstack([X_test[:,0].reshape(-1,1),X_test[:,2:]])\n",
    "X_nn_test = np.hstack([X_test[:,int_ind[:20]],model.predict(X_test2).reshape(-1,1),regression.predict(X_test[:,1].reshape(-1,1)).reshape(-1,1)])\n"
   ]
  },
  {
   "cell_type": "code",
   "execution_count": 26,
   "metadata": {
    "scrolled": true
   },
   "outputs": [
    {
     "name": "stdout",
     "output_type": "stream",
     "text": [
      "21330\n",
      "10656.0\n",
      "for epoch 0 train loss is 0.4931679269457029\n",
      "Model saved in file: tmp/model.ckpt\n",
      "for epoch 1 train loss is 0.4145827028635028\n",
      "Model saved in file: tmp/model.ckpt\n",
      "for epoch 2 train loss is 0.41462507261173054\n",
      "Model saved in file: tmp/model.ckpt\n"
     ]
    }
   ],
   "source": [
    "from scipy.io import loadmat\n",
    "from scipy.io import savemat\n",
    "model_path = \"tmp/model.ckpt\"\n",
    "saver = tf.train.Saver()\n",
    "print(train_count)\n",
    "n_batch = 32\n",
    "n_epoch = 3\n",
    "a_val = 0.001\n",
    "with tf.Session() as sess:\n",
    "    sess.run(tf.global_variables_initializer())\n",
    "    minibatches = range(0,train_count-n_batch+1,n_batch)\n",
    "    minibatch_c = len(list(minibatches))\n",
    "    print((minibatch_c*n_batch/2))\n",
    "    losses = []\n",
    "    test_losses = []\n",
    "    for ep in range(n_epoch):\n",
    "        loss_val_ep = 0\n",
    "        for i in minibatches:\n",
    "            [loss_val] = sess.run([loss],feed_dict={X_t:X_nn[i:i+n_batch,:],y_t:y_train[i:i+n_batch].reshape(-1,1)})\n",
    "            sess.run([step],feed_dict={X_t:X_nn[i:i+n_batch,:],y_t:y_train[i:i+n_batch].reshape(-1,1),alpha:a_val})\n",
    "            loss_val_ep+=loss_val\n",
    "        losses.append((loss_val_ep/(minibatch_c*n_batch))**0.5)\n",
    "        \n",
    "       # [test_loss_val] = sess.run([loss],feed_dict={X_t:X_nn_test,y_t:y_test.reshape(-1,1)})\n",
    "       # test_losses.append((test_loss_val/y_test.shape[0])**0.5)\n",
    "        #print('for epoch {0} train loss is {1} test loss is {2}'.format(ep,losses[-1],test_losses[-1]))\n",
    "        print('for epoch {0} train loss is {1}'.format(ep,losses[-1]))\n",
    "        if(ep%1==0):\n",
    "            save_path = saver.save(sess, model_path)\n",
    "            print(\"Model saved in file: %s\" % save_path)\n",
    "        if(ep==150):\n",
    "            a_val/=10\n",
    "        "
   ]
  },
  {
   "cell_type": "code",
   "execution_count": 27,
   "metadata": {},
   "outputs": [
    {
     "data": {
      "image/png": "[encoded data removed]",
      "text/plain": [
       "<Figure size 432x288 with 1 Axes>"
      ]
     },
     "metadata": {},
     "output_type": "display_data"
    }
   ],
   "source": [
    "plt.plot(np.linspace(0,len(losses),len(losses)),losses)\n",
    "#plt.plot(np.linspace(0,len(losses),len(losses)),test_losses)\n",
    "plt.show()"
   ]
  },
  {
   "cell_type": "code",
   "execution_count": null,
   "metadata": {},
   "outputs": [],
   "source": []
  },
  {
   "cell_type": "code",
   "execution_count": null,
   "metadata": {},
   "outputs": [],
   "source": []
  },
  {
   "cell_type": "code",
   "execution_count": 28,
   "metadata": {},
   "outputs": [
    {
     "name": "stdout",
     "output_type": "stream",
     "text": [
      "Tensor(\"dense_4/Relu:0\", shape=(?, 1), dtype=float32)\n",
      "Tensor(\"flatten/Reshape:0\", shape=(?, 22), dtype=float32)\n",
      "Tensor(\"dense/Relu:0\", shape=(?, 128), dtype=float32)\n",
      "Tensor(\"dense_1/Relu:0\", shape=(?, 128), dtype=float32)\n",
      "Tensor(\"dense_2/Relu:0\", shape=(?, 64), dtype=float32)\n",
      "Tensor(\"dense_3/Relu:0\", shape=(?, 32), dtype=float32)\n",
      "Tensor(\"Placeholder_1:0\", shape=(?, 1), dtype=float32)\n"
     ]
    }
   ],
   "source": [
    "print(pred)\n",
    "print(flat)\n",
    "\n",
    "print(layer1)\n",
    "\n",
    "print(layer2)\n",
    "print(layer3)\n",
    "print(layer4)\n",
    "\n",
    "print(y_t)"
   ]
  },
  {
   "cell_type": "code",
   "execution_count": 30,
   "metadata": {},
   "outputs": [
    {
     "name": "stdout",
     "output_type": "stream",
     "text": [
      "[[30474 '2015-07-01' 39.0 ... 0 14 1]\n",
      " [30475 '2015-07-01' 79.2 ... 1 12 1]\n",
      " [30476 '2015-07-01' 40.5 ... 10 71 11]\n",
      " ...\n",
      " [38133 '2016-05-30' 41.08 ... 105 203 13]\n",
      " [38134 '2016-05-30' 34.8 ... 2 43 10]\n",
      " [38135 '2016-05-30' 63.0 ... 4 42 11]]\n",
      "['2015-07-01' '2015-07-01' '2015-07-01' ... '2016-05-30' '2016-05-30'\n",
      " '2016-05-30']\n"
     ]
    }
   ],
   "source": [
    "test_f = pd.read_csv('/home/xcho/Desktop/AnacondaProjects/Houses/test.csv')\n",
    "X_final = np.array(test_f)\n",
    "print(X_final)\n",
    "X_final = clean_data(X_final)"
   ]
  },
  {
   "cell_type": "code",
   "execution_count": 31,
   "metadata": {},
   "outputs": [],
   "source": [
    "X_final = X_final[:,1:]"
   ]
  },
  {
   "cell_type": "code",
   "execution_count": 32,
   "metadata": {},
   "outputs": [
    {
     "name": "stdout",
     "output_type": "stream",
     "text": [
      "(7662, 290)\n",
      "(7662, 289)\n",
      "INFO:tensorflow:Restoring parameters from tmp/model.ckpt\n"
     ]
    }
   ],
   "source": [
    "\n",
    "\n",
    "y_reg = regression.predict(X_final[:,1].reshape(-1,1))\n",
    "X_xgb = np.hstack([X_final[:,0].reshape(-1,1),X_final[:,2:]])\n",
    "print(X_final.shape)\n",
    "\n",
    "print(X_xgb.shape)\n",
    "\n",
    "\n",
    "X_nn_final = np.hstack([X_final[:,int_ind[:20]],model.predict(X_xgb).reshape(-1,1),regression.predict(X_final[:,1].reshape(-1,1)).reshape(-1,1)])\n",
    "\n",
    "with tf.Session() as sess:\n",
    "    saver.restore(sess, model_path)\n",
    "    [pred_val] = sess.run([pred],feed_dict={X_t:X_nn_final})"
   ]
  },
  {
   "cell_type": "code",
   "execution_count": 34,
   "metadata": {},
   "outputs": [],
   "source": [
    "sub = pd.read_csv('/home/xcho/Desktop/AnacondaProjects/Houses/sample_submission.csv')"
   ]
  },
  {
   "cell_type": "code",
   "execution_count": 35,
   "metadata": {},
   "outputs": [],
   "source": [
    "sub['price_doc'] = pred_val"
   ]
  },
  {
   "cell_type": "code",
   "execution_count": 36,
   "metadata": {},
   "outputs": [],
   "source": [
    "sub.to_csv('/home/xcho/Desktop/AnacondaProjects/Houses/sample_submission4.csv',index=False)"
   ]
  },
  {
   "cell_type": "code",
   "execution_count": null,
   "metadata": {},
   "outputs": [],
   "source": []
  },
  {
   "cell_type": "code",
   "execution_count": null,
   "metadata": {},
   "outputs": [],
   "source": []
  }
 ],
 "metadata": {
  "kernelspec": {
   "display_name": "Python 3",
   "language": "python",
   "name": "python3"
  },
  "language_info": {
   "codemirror_mode": {
    "name": "ipython",
    "version": 3
   },
   "file_extension": ".py",
   "mimetype": "text/x-python",
   "name": "python",
   "nbconvert_exporter": "python",
   "pygments_lexer": "ipython3",
   "version": "3.6.5"
  }
 },
 "nbformat": 4,
 "nbformat_minor": 2
}
