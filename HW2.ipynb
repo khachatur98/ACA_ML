{
 "cells": [
  {
   "cell_type": "code",
   "execution_count": 54,
   "metadata": {},
   "outputs": [],
   "source": [
    "import csv\n",
    "import numpy as np\n",
    "X = np.array([])\n",
    "y = np.array([])\n",
    "data = []\n",
    "with open('C:\\\\Users\\\\USER\\\\AnacondaProjects\\\\Earthiquake\\\\database.csv', 'rt',encoding='ascii') as f:\n",
    "    reader = csv.reader(f)\n",
    "    for row in reader:\n",
    "        data.append(row)\n"
   ]
  },
  {
   "cell_type": "code",
   "execution_count": 73,
   "metadata": {},
   "outputs": [
    {
     "name": "stdout",
     "output_type": "stream",
     "text": [
      "[49458 41389 65158 ... 45531 81019 72508]\n"
     ]
    }
   ],
   "source": [
    "def time_in_sec(str_time):\n",
    "    X=[]\n",
    "    for i in str_time:\n",
    "        t = list(map(int,i.split(':')))\n",
    "        X.append(t)\n",
    "    res = np.array(X)*np.array([3600,60,1])\n",
    "    return np.sum(res,axis=1)\n",
    "print(time_in_sec(X[:,0]))"
   ]
  },
  {
   "cell_type": "code",
   "execution_count": 137,
   "metadata": {},
   "outputs": [
    {
     "name": "stdout",
     "output_type": "stream",
     "text": [
      "(23412,)\n",
      "(23412, 6)\n"
     ]
    }
   ],
   "source": [
    "X = np.array(data)[1:,[1,2,3]]\n",
    "y = np.array(list(map(float,np.array(data)[1:,8])))\n",
    "\n",
    "time_rad = (time_in_sec(X[:,0])*2*np.pi/(24*60**2)).reshape(-1,1)\n",
    "lat_rad = (np.array(list(map(float,X[:,1])))*np.pi/180).reshape(-1,1)\n",
    "long_rad = (np.array(list(map(float,X[:,2])))*np.pi/180).reshape(-1,1)\n",
    "X_mod = np.hstack([np.sin(time_rad),np.cos(time_rad),np.sin(lat_rad),np.cos(lat_rad),np.sin(long_rad),np.cos(long_rad)])\n",
    "print(y.shape)\n",
    "print(X_mod.shape)\n",
    "\n",
    "\n",
    "n_test = X_mod.shape[0]*30//100\n",
    "X_test = X_mod[0:n_test,:]\n",
    "y_test = y[0:n_test]\n",
    "\n",
    "X_train = X_mod[n_test:,:]\n",
    "y_train = y[n_test:]"
   ]
  },
  {
   "cell_type": "code",
   "execution_count": 138,
   "metadata": {},
   "outputs": [
    {
     "data": {
      "text/plain": [
       "1.0"
      ]
     },
     "execution_count": 138,
     "metadata": {},
     "output_type": "execute_result"
    }
   ],
   "source": [
    "from sklearn import tree\n",
    "model = tree.DecisionTreeRegressor()\n",
    "model.fit(X_train, y_train)\n",
    "model.score(X_train, y_train)"
   ]
  },
  {
   "cell_type": "code",
   "execution_count": 139,
   "metadata": {},
   "outputs": [
    {
     "name": "stdout",
     "output_type": "stream",
     "text": [
      "loss is 0.00012685501183445019\n"
     ]
    }
   ],
   "source": [
    "print('loss is {0}'.format(np.mean(model.predict(X_test)-y_test)**2))"
   ]
  },
  {
   "cell_type": "code",
   "execution_count": null,
   "metadata": {},
   "outputs": [],
   "source": []
  },
  {
   "cell_type": "code",
   "execution_count": null,
   "metadata": {},
   "outputs": [],
   "source": []
  }
 ],
 "metadata": {
  "kernelspec": {
   "display_name": "Python 3",
   "language": "python",
   "name": "python3"
  },
  "language_info": {
   "codemirror_mode": {
    "name": "ipython",
    "version": 3
   },
   "file_extension": ".py",
   "mimetype": "text/x-python",
   "name": "python",
   "nbconvert_exporter": "python",
   "pygments_lexer": "ipython3",
   "version": "3.6.4"
  }
 },
 "nbformat": 4,
 "nbformat_minor": 2
}
