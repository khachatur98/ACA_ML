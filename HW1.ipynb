{
 "cells": [
  {
   "cell_type": "code",
   "execution_count": 1,
   "metadata": {},
   "outputs": [],
   "source": [
    "import datetime                 \n",
    "import time\n",
    "\n",
    "def time_this(original_function):      \n",
    "    print(\"decorating\")                      \n",
    "    def new_function(*args,**kwargs):\n",
    "        print(\"starting timer\")       \n",
    "        before = datetime.datetime.now()                     \n",
    "        x = original_function(*args,**kwargs)                \n",
    "        after = datetime.datetime.now()                      \n",
    "        print(\"Elapsed Time = {0}\".format(after-before))    \n",
    "        return x                                             \n",
    "    return new_function "
   ]
  },
  {
   "cell_type": "code",
   "execution_count": 2,
   "metadata": {},
   "outputs": [
    {
     "name": "stdout",
     "output_type": "stream",
     "text": [
      "decorating\n"
     ]
    }
   ],
   "source": [
    "def factorial(n,cache={}):\n",
    "    assert isinstance(n,int)\n",
    "    assert(n>=0)\n",
    "    if(n==0):\n",
    "        return 1\n",
    "    cache.setdefault(n,0)\n",
    "    if cache[n]>0:\n",
    "        return cache[n]\n",
    "    else:\n",
    "        cache[n] = n*factorial(n-1)\n",
    "    return cache[n]\n",
    "\n",
    "@time_this\n",
    "def f(n):\n",
    "    factorial(n)"
   ]
  },
  {
   "cell_type": "code",
   "execution_count": 3,
   "metadata": {},
   "outputs": [
    {
     "name": "stdout",
     "output_type": "stream",
     "text": [
      "starting timer\n",
      "Elapsed Time = 0:00:00.005004\n",
      "starting timer\n",
      "Elapsed Time = 0:00:00\n"
     ]
    }
   ],
   "source": [
    "f(2000)\n",
    "f(2001)"
   ]
  },
  {
   "cell_type": "code",
   "execution_count": 4,
   "metadata": {},
   "outputs": [],
   "source": [
    "class Cat:\n",
    "    a=5\n",
    "    def __init__(self,name):\n",
    "        self.name=name\n",
    "    def say_meow(self):\n",
    "        return \"Meow\"\n",
    "    def sleep(self):\n",
    "        return \"ZZzzZZzzZZzz\"\n",
    "    def eat(self):\n",
    "        return \"eating...\"\n",
    "        "
   ]
  },
  {
   "cell_type": "code",
   "execution_count": 5,
   "metadata": {},
   "outputs": [],
   "source": [
    "def func(obj):\n",
    "    d = {}\n",
    "    keys = list(obj.__class__.__dict__.keys())\n",
    "    values = list(obj.__class__.__dict__.values())\n",
    "    for i in range(len(keys)):\n",
    "        if keys[i][0:2]!='__' and len(str(values[i]))>=8 and str(values[i])[1:9]=='function':\n",
    "            val = obj.__getattribute__(keys[i])()\n",
    "            d[keys[i]]=val\n",
    "    return d"
   ]
  },
  {
   "cell_type": "code",
   "execution_count": 6,
   "metadata": {},
   "outputs": [],
   "source": [
    "c = Cat('Barsik')"
   ]
  },
  {
   "cell_type": "code",
   "execution_count": 8,
   "metadata": {},
   "outputs": [
    {
     "name": "stdout",
     "output_type": "stream",
     "text": [
      "{'say_meow': 'Meow', 'sleep': 'ZZzzZZzzZZzz', 'eat': 'eating...'}\n"
     ]
    }
   ],
   "source": [
    "print(func(c))"
   ]
  },
  {
   "cell_type": "code",
   "execution_count": null,
   "metadata": {},
   "outputs": [],
   "source": []
  },
  {
   "cell_type": "code",
   "execution_count": null,
   "metadata": {},
   "outputs": [],
   "source": []
  }
 ],
 "metadata": {
  "kernelspec": {
   "display_name": "Python 3",
   "language": "python",
   "name": "python3"
  },
  "language_info": {
   "codemirror_mode": {
    "name": "ipython",
    "version": 3
   },
   "file_extension": ".py",
   "mimetype": "text/x-python",
   "name": "python",
   "nbconvert_exporter": "python",
   "pygments_lexer": "ipython3",
   "version": "3.6.4"
  }
 },
 "nbformat": 4,
 "nbformat_minor": 2
}
